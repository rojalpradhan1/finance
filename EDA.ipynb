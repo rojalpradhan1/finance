{
 "cells": [
  {
   "cell_type": "code",
   "execution_count": 1,
   "metadata": {},
   "outputs": [],
   "source": [
    "import pandas as pd\n",
    "pd.set_option(\"display.max_columns\",50)\n"
   ]
  },
  {
   "cell_type": "code",
   "execution_count": 2,
   "metadata": {},
   "outputs": [
    {
     "name": "stderr",
     "output_type": "stream",
     "text": [
      "/tmp/ipykernel_10755/638734534.py:1: DtypeWarning: Columns (16) have mixed types. Specify dtype option on import or set low_memory=False.\n",
      "  df = pd.read_csv('complaints.csv')\n"
     ]
    },
    {
     "data": {
      "text/html": [
       "<div>\n",
       "<style scoped>\n",
       "    .dataframe tbody tr th:only-of-type {\n",
       "        vertical-align: middle;\n",
       "    }\n",
       "\n",
       "    .dataframe tbody tr th {\n",
       "        vertical-align: top;\n",
       "    }\n",
       "\n",
       "    .dataframe thead th {\n",
       "        text-align: right;\n",
       "    }\n",
       "</style>\n",
       "<table border=\"1\" class=\"dataframe\">\n",
       "  <thead>\n",
       "    <tr style=\"text-align: right;\">\n",
       "      <th></th>\n",
       "      <th>Date received</th>\n",
       "      <th>Product</th>\n",
       "      <th>Sub-product</th>\n",
       "      <th>Issue</th>\n",
       "      <th>Sub-issue</th>\n",
       "      <th>Consumer complaint narrative</th>\n",
       "      <th>Company public response</th>\n",
       "      <th>Company</th>\n",
       "      <th>State</th>\n",
       "      <th>ZIP code</th>\n",
       "      <th>Tags</th>\n",
       "      <th>Consumer consent provided?</th>\n",
       "      <th>Submitted via</th>\n",
       "      <th>Date sent to company</th>\n",
       "      <th>Company response to consumer</th>\n",
       "      <th>Timely response?</th>\n",
       "      <th>Consumer disputed?</th>\n",
       "      <th>Complaint ID</th>\n",
       "    </tr>\n",
       "  </thead>\n",
       "  <tbody>\n",
       "    <tr>\n",
       "      <th>0</th>\n",
       "      <td>2023-08-14</td>\n",
       "      <td>Debt collection</td>\n",
       "      <td>Credit card debt</td>\n",
       "      <td>Attempts to collect debt not owed</td>\n",
       "      <td>Debt is not yours</td>\n",
       "      <td>NaN</td>\n",
       "      <td>NaN</td>\n",
       "      <td>SYNCHRONY FINANCIAL</td>\n",
       "      <td>CA</td>\n",
       "      <td>92311</td>\n",
       "      <td>NaN</td>\n",
       "      <td>NaN</td>\n",
       "      <td>Web</td>\n",
       "      <td>2023-08-14</td>\n",
       "      <td>In progress</td>\n",
       "      <td>Yes</td>\n",
       "      <td>NaN</td>\n",
       "      <td>7400955</td>\n",
       "    </tr>\n",
       "    <tr>\n",
       "      <th>1</th>\n",
       "      <td>2023-08-23</td>\n",
       "      <td>Credit reporting, credit repair services, or o...</td>\n",
       "      <td>Credit reporting</td>\n",
       "      <td>Problem with a credit reporting company's inve...</td>\n",
       "      <td>Investigation took more than 30 days</td>\n",
       "      <td>NaN</td>\n",
       "      <td>NaN</td>\n",
       "      <td>EQUIFAX, INC.</td>\n",
       "      <td>TN</td>\n",
       "      <td>38116</td>\n",
       "      <td>NaN</td>\n",
       "      <td>NaN</td>\n",
       "      <td>Web</td>\n",
       "      <td>2023-08-23</td>\n",
       "      <td>Closed with non-monetary relief</td>\n",
       "      <td>Yes</td>\n",
       "      <td>NaN</td>\n",
       "      <td>7442979</td>\n",
       "    </tr>\n",
       "    <tr>\n",
       "      <th>2</th>\n",
       "      <td>2023-09-27</td>\n",
       "      <td>Credit reporting or other personal consumer re...</td>\n",
       "      <td>Credit reporting</td>\n",
       "      <td>Problem with a company's investigation into an...</td>\n",
       "      <td>Their investigation did not fix an error on yo...</td>\n",
       "      <td>NaN</td>\n",
       "      <td>NaN</td>\n",
       "      <td>EQUIFAX, INC.</td>\n",
       "      <td>IL</td>\n",
       "      <td>60018</td>\n",
       "      <td>NaN</td>\n",
       "      <td>NaN</td>\n",
       "      <td>Web</td>\n",
       "      <td>2023-09-27</td>\n",
       "      <td>In progress</td>\n",
       "      <td>Yes</td>\n",
       "      <td>NaN</td>\n",
       "      <td>7610573</td>\n",
       "    </tr>\n",
       "    <tr>\n",
       "      <th>3</th>\n",
       "      <td>2023-09-27</td>\n",
       "      <td>Credit reporting or other personal consumer re...</td>\n",
       "      <td>Credit reporting</td>\n",
       "      <td>Problem with a company's investigation into an...</td>\n",
       "      <td>Their investigation did not fix an error on yo...</td>\n",
       "      <td>NaN</td>\n",
       "      <td>NaN</td>\n",
       "      <td>EQUIFAX, INC.</td>\n",
       "      <td>FL</td>\n",
       "      <td>33186</td>\n",
       "      <td>NaN</td>\n",
       "      <td>NaN</td>\n",
       "      <td>Web</td>\n",
       "      <td>2023-09-27</td>\n",
       "      <td>In progress</td>\n",
       "      <td>Yes</td>\n",
       "      <td>NaN</td>\n",
       "      <td>7610574</td>\n",
       "    </tr>\n",
       "    <tr>\n",
       "      <th>4</th>\n",
       "      <td>2023-09-27</td>\n",
       "      <td>Credit reporting or other personal consumer re...</td>\n",
       "      <td>Credit reporting</td>\n",
       "      <td>Incorrect information on your report</td>\n",
       "      <td>Account status incorrect</td>\n",
       "      <td>NaN</td>\n",
       "      <td>NaN</td>\n",
       "      <td>EQUIFAX, INC.</td>\n",
       "      <td>TN</td>\n",
       "      <td>38116</td>\n",
       "      <td>NaN</td>\n",
       "      <td>NaN</td>\n",
       "      <td>Web</td>\n",
       "      <td>2023-09-27</td>\n",
       "      <td>In progress</td>\n",
       "      <td>Yes</td>\n",
       "      <td>NaN</td>\n",
       "      <td>7610575</td>\n",
       "    </tr>\n",
       "  </tbody>\n",
       "</table>\n",
       "</div>"
      ],
      "text/plain": [
       "  Date received                                            Product  \\\n",
       "0    2023-08-14                                    Debt collection   \n",
       "1    2023-08-23  Credit reporting, credit repair services, or o...   \n",
       "2    2023-09-27  Credit reporting or other personal consumer re...   \n",
       "3    2023-09-27  Credit reporting or other personal consumer re...   \n",
       "4    2023-09-27  Credit reporting or other personal consumer re...   \n",
       "\n",
       "        Sub-product                                              Issue  \\\n",
       "0  Credit card debt                  Attempts to collect debt not owed   \n",
       "1  Credit reporting  Problem with a credit reporting company's inve...   \n",
       "2  Credit reporting  Problem with a company's investigation into an...   \n",
       "3  Credit reporting  Problem with a company's investigation into an...   \n",
       "4  Credit reporting               Incorrect information on your report   \n",
       "\n",
       "                                           Sub-issue  \\\n",
       "0                                  Debt is not yours   \n",
       "1               Investigation took more than 30 days   \n",
       "2  Their investigation did not fix an error on yo...   \n",
       "3  Their investigation did not fix an error on yo...   \n",
       "4                           Account status incorrect   \n",
       "\n",
       "  Consumer complaint narrative Company public response              Company  \\\n",
       "0                          NaN                     NaN  SYNCHRONY FINANCIAL   \n",
       "1                          NaN                     NaN        EQUIFAX, INC.   \n",
       "2                          NaN                     NaN        EQUIFAX, INC.   \n",
       "3                          NaN                     NaN        EQUIFAX, INC.   \n",
       "4                          NaN                     NaN        EQUIFAX, INC.   \n",
       "\n",
       "  State ZIP code Tags Consumer consent provided? Submitted via  \\\n",
       "0    CA    92311  NaN                        NaN           Web   \n",
       "1    TN    38116  NaN                        NaN           Web   \n",
       "2    IL    60018  NaN                        NaN           Web   \n",
       "3    FL    33186  NaN                        NaN           Web   \n",
       "4    TN    38116  NaN                        NaN           Web   \n",
       "\n",
       "  Date sent to company     Company response to consumer Timely response?  \\\n",
       "0           2023-08-14                      In progress              Yes   \n",
       "1           2023-08-23  Closed with non-monetary relief              Yes   \n",
       "2           2023-09-27                      In progress              Yes   \n",
       "3           2023-09-27                      In progress              Yes   \n",
       "4           2023-09-27                      In progress              Yes   \n",
       "\n",
       "  Consumer disputed?  Complaint ID  \n",
       "0                NaN       7400955  \n",
       "1                NaN       7442979  \n",
       "2                NaN       7610573  \n",
       "3                NaN       7610574  \n",
       "4                NaN       7610575  "
      ]
     },
     "execution_count": 2,
     "metadata": {},
     "output_type": "execute_result"
    }
   ],
   "source": [
    "df = pd.read_csv('complaints.csv')\n",
    "df.head()"
   ]
  },
  {
   "cell_type": "markdown",
   "metadata": {},
   "source": [
    "Date received\tThe date the CFPB received the complaint\n",
    "\n",
    "Product\tThe type of product the consumer identified in the complaint\n",
    "\n",
    "Sub-product\tThe type of sub-product the consumer identified in the complaint\n",
    "\n",
    "Issue\tThe issue the consumer identified in the complaint\n",
    "\n",
    "Sub-issue\tThe sub-issue the consumer identified in the complaint\n",
    "\n",
    "Consumer complaint narrative\tConsumer complaint narrative is the consumer-submitted description of \"what happened\" from the complaint. Consumers must opt-in to share their narrative. We will not publish the narrative unless the consumer consents, and consumers can opt-out at any time. The CFPB takes reasonable steps to scrub personal information from each complaint that could be used to identify the consumer.\n",
    "\n",
    "Company public response\tThe company's optional, public-facing response to a consumer's complaint. Companies can choose to select a response from a pre-set list of options that will be posted on the public database. For example, \"Company believes complaint is the result of an isolated error.\"\n",
    "\n",
    "Company\tThe complaint is about this company\n",
    "\n",
    "State\tThe state of the mailing address provided by the consumer\n",
    "\n",
    "ZIP code\tThe mailing ZIP code provided by the consumer\n",
    "\n",
    "Tags\tData that supports easier searching and sorting of complaints submitted by or on behalf of consumers.\n",
    "\n",
    "For example, complaints where the submitter reports the age of the consumer as 62 years or older are tagged, ‘Older American.’ Complaints submitted by or on behalf of a servicemember or the spouse or dependent of a servicemember are tagged, ‘Servicemember.’ Servicemember includes anyone who is active duty, National Guard, or Reservist, as well as anyone who previously served and is a Veteran or retiree.\n",
    "\n",
    "Consumer coConsumer disputed?\tWhether the consumer disputed the company’s responsensent provided?\tIdentifies whether the consumer opted in to publish their complaint narrative. We do not publish the narrative unless the consumer consents and consumers can opt-out at any time.\n",
    "\n",
    "Submitted via\tHow the complaint was submitted to the CFPB\n",
    "\n",
    "Date sent to company\tThe date the CFPB sent the complaint to the company\n",
    "\n",
    "Company response to consumer\tThis is how the company responded. For example, \"Closed with explanation.\"\n",
    "\n",
    "Timely response?\tWhether the company gave a timely response\n",
    "\n",
    "Complaint ID\tThe unique identification number for a complaint"
   ]
  },
  {
   "cell_type": "code",
   "execution_count": 3,
   "metadata": {},
   "outputs": [
    {
     "data": {
      "text/plain": [
       "Index(['Date received', 'Product', 'Sub-product', 'Issue', 'Sub-issue',\n",
       "       'Consumer complaint narrative', 'Company public response', 'Company',\n",
       "       'State', 'ZIP code', 'Tags', 'Consumer consent provided?',\n",
       "       'Submitted via', 'Date sent to company', 'Company response to consumer',\n",
       "       'Timely response?', 'Consumer disputed?', 'Complaint ID'],\n",
       "      dtype='object')"
      ]
     },
     "execution_count": 3,
     "metadata": {},
     "output_type": "execute_result"
    }
   ],
   "source": [
    "df.columns"
   ]
  },
  {
   "cell_type": "code",
   "execution_count": 4,
   "metadata": {},
   "outputs": [],
   "source": [
    "columns_mapped = {\n",
    "    'Date received':'Date_received',\n",
    "    'Consumer complaint narrative':'Consumer_complaint_narrative',\n",
    "    'Company public response':'Company_public_response',\n",
    "    'ZIP code':'ZIP_code',\n",
    "    'Consumer consent provided?':'consumer_consent_provided',\n",
    "    'Submitted via':'Submitted_via',\n",
    "    'Date sent to company':'Date_sent_to_company', \n",
    "    'Company response to consumer':'Company_response_to_consumer',\n",
    "    'Timely response?':'Timely_response', \n",
    "    'Consumer disputed?':'Consumer_disputed', \n",
    "    'Complaint ID':'Complaint_ID'\n",
    "    }\n",
    "df.rename(columns=columns_mapped,inplace=True)\n"
   ]
  },
  {
   "cell_type": "code",
   "execution_count": 5,
   "metadata": {},
   "outputs": [],
   "source": [
    "file_path = 'complaints.parquet'\n",
    "df.to_parquet(file_path)\n"
   ]
  },
  {
   "cell_type": "code",
   "execution_count": 6,
   "metadata": {},
   "outputs": [
    {
     "data": {
      "text/html": [
       "<div>\n",
       "<style scoped>\n",
       "    .dataframe tbody tr th:only-of-type {\n",
       "        vertical-align: middle;\n",
       "    }\n",
       "\n",
       "    .dataframe tbody tr th {\n",
       "        vertical-align: top;\n",
       "    }\n",
       "\n",
       "    .dataframe thead th {\n",
       "        text-align: right;\n",
       "    }\n",
       "</style>\n",
       "<table border=\"1\" class=\"dataframe\">\n",
       "  <thead>\n",
       "    <tr style=\"text-align: right;\">\n",
       "      <th></th>\n",
       "      <th>Date_received</th>\n",
       "      <th>Product</th>\n",
       "      <th>Sub-product</th>\n",
       "      <th>Issue</th>\n",
       "      <th>Sub-issue</th>\n",
       "      <th>Consumer_complaint_narrative</th>\n",
       "      <th>Company_public_response</th>\n",
       "      <th>Company</th>\n",
       "      <th>State</th>\n",
       "      <th>ZIP_code</th>\n",
       "      <th>Tags</th>\n",
       "      <th>consumer_consent_provided</th>\n",
       "      <th>Submitted_via</th>\n",
       "      <th>Date_sent_to_company</th>\n",
       "      <th>Company_response_to_consumer</th>\n",
       "      <th>Timely_response</th>\n",
       "      <th>Consumer_disputed</th>\n",
       "      <th>Complaint_ID</th>\n",
       "    </tr>\n",
       "  </thead>\n",
       "  <tbody>\n",
       "    <tr>\n",
       "      <th>0</th>\n",
       "      <td>2023-08-14</td>\n",
       "      <td>Debt collection</td>\n",
       "      <td>Credit card debt</td>\n",
       "      <td>Attempts to collect debt not owed</td>\n",
       "      <td>Debt is not yours</td>\n",
       "      <td>None</td>\n",
       "      <td>None</td>\n",
       "      <td>SYNCHRONY FINANCIAL</td>\n",
       "      <td>CA</td>\n",
       "      <td>92311</td>\n",
       "      <td>None</td>\n",
       "      <td>None</td>\n",
       "      <td>Web</td>\n",
       "      <td>2023-08-14</td>\n",
       "      <td>In progress</td>\n",
       "      <td>Yes</td>\n",
       "      <td>None</td>\n",
       "      <td>7400955</td>\n",
       "    </tr>\n",
       "    <tr>\n",
       "      <th>1</th>\n",
       "      <td>2023-08-23</td>\n",
       "      <td>Credit reporting, credit repair services, or o...</td>\n",
       "      <td>Credit reporting</td>\n",
       "      <td>Problem with a credit reporting company's inve...</td>\n",
       "      <td>Investigation took more than 30 days</td>\n",
       "      <td>None</td>\n",
       "      <td>None</td>\n",
       "      <td>EQUIFAX, INC.</td>\n",
       "      <td>TN</td>\n",
       "      <td>38116</td>\n",
       "      <td>None</td>\n",
       "      <td>None</td>\n",
       "      <td>Web</td>\n",
       "      <td>2023-08-23</td>\n",
       "      <td>Closed with non-monetary relief</td>\n",
       "      <td>Yes</td>\n",
       "      <td>None</td>\n",
       "      <td>7442979</td>\n",
       "    </tr>\n",
       "    <tr>\n",
       "      <th>2</th>\n",
       "      <td>2023-09-27</td>\n",
       "      <td>Credit reporting or other personal consumer re...</td>\n",
       "      <td>Credit reporting</td>\n",
       "      <td>Problem with a company's investigation into an...</td>\n",
       "      <td>Their investigation did not fix an error on yo...</td>\n",
       "      <td>None</td>\n",
       "      <td>None</td>\n",
       "      <td>EQUIFAX, INC.</td>\n",
       "      <td>IL</td>\n",
       "      <td>60018</td>\n",
       "      <td>None</td>\n",
       "      <td>None</td>\n",
       "      <td>Web</td>\n",
       "      <td>2023-09-27</td>\n",
       "      <td>In progress</td>\n",
       "      <td>Yes</td>\n",
       "      <td>None</td>\n",
       "      <td>7610573</td>\n",
       "    </tr>\n",
       "    <tr>\n",
       "      <th>3</th>\n",
       "      <td>2023-09-27</td>\n",
       "      <td>Credit reporting or other personal consumer re...</td>\n",
       "      <td>Credit reporting</td>\n",
       "      <td>Problem with a company's investigation into an...</td>\n",
       "      <td>Their investigation did not fix an error on yo...</td>\n",
       "      <td>None</td>\n",
       "      <td>None</td>\n",
       "      <td>EQUIFAX, INC.</td>\n",
       "      <td>FL</td>\n",
       "      <td>33186</td>\n",
       "      <td>None</td>\n",
       "      <td>None</td>\n",
       "      <td>Web</td>\n",
       "      <td>2023-09-27</td>\n",
       "      <td>In progress</td>\n",
       "      <td>Yes</td>\n",
       "      <td>None</td>\n",
       "      <td>7610574</td>\n",
       "    </tr>\n",
       "    <tr>\n",
       "      <th>4</th>\n",
       "      <td>2023-09-27</td>\n",
       "      <td>Credit reporting or other personal consumer re...</td>\n",
       "      <td>Credit reporting</td>\n",
       "      <td>Incorrect information on your report</td>\n",
       "      <td>Account status incorrect</td>\n",
       "      <td>None</td>\n",
       "      <td>None</td>\n",
       "      <td>EQUIFAX, INC.</td>\n",
       "      <td>TN</td>\n",
       "      <td>38116</td>\n",
       "      <td>None</td>\n",
       "      <td>None</td>\n",
       "      <td>Web</td>\n",
       "      <td>2023-09-27</td>\n",
       "      <td>In progress</td>\n",
       "      <td>Yes</td>\n",
       "      <td>None</td>\n",
       "      <td>7610575</td>\n",
       "    </tr>\n",
       "  </tbody>\n",
       "</table>\n",
       "</div>"
      ],
      "text/plain": [
       "  Date_received                                            Product  \\\n",
       "0    2023-08-14                                    Debt collection   \n",
       "1    2023-08-23  Credit reporting, credit repair services, or o...   \n",
       "2    2023-09-27  Credit reporting or other personal consumer re...   \n",
       "3    2023-09-27  Credit reporting or other personal consumer re...   \n",
       "4    2023-09-27  Credit reporting or other personal consumer re...   \n",
       "\n",
       "        Sub-product                                              Issue  \\\n",
       "0  Credit card debt                  Attempts to collect debt not owed   \n",
       "1  Credit reporting  Problem with a credit reporting company's inve...   \n",
       "2  Credit reporting  Problem with a company's investigation into an...   \n",
       "3  Credit reporting  Problem with a company's investigation into an...   \n",
       "4  Credit reporting               Incorrect information on your report   \n",
       "\n",
       "                                           Sub-issue  \\\n",
       "0                                  Debt is not yours   \n",
       "1               Investigation took more than 30 days   \n",
       "2  Their investigation did not fix an error on yo...   \n",
       "3  Their investigation did not fix an error on yo...   \n",
       "4                           Account status incorrect   \n",
       "\n",
       "  Consumer_complaint_narrative Company_public_response              Company  \\\n",
       "0                         None                    None  SYNCHRONY FINANCIAL   \n",
       "1                         None                    None        EQUIFAX, INC.   \n",
       "2                         None                    None        EQUIFAX, INC.   \n",
       "3                         None                    None        EQUIFAX, INC.   \n",
       "4                         None                    None        EQUIFAX, INC.   \n",
       "\n",
       "  State ZIP_code  Tags consumer_consent_provided Submitted_via  \\\n",
       "0    CA    92311  None                      None           Web   \n",
       "1    TN    38116  None                      None           Web   \n",
       "2    IL    60018  None                      None           Web   \n",
       "3    FL    33186  None                      None           Web   \n",
       "4    TN    38116  None                      None           Web   \n",
       "\n",
       "  Date_sent_to_company     Company_response_to_consumer Timely_response  \\\n",
       "0           2023-08-14                      In progress             Yes   \n",
       "1           2023-08-23  Closed with non-monetary relief             Yes   \n",
       "2           2023-09-27                      In progress             Yes   \n",
       "3           2023-09-27                      In progress             Yes   \n",
       "4           2023-09-27                      In progress             Yes   \n",
       "\n",
       "  Consumer_disputed  Complaint_ID  \n",
       "0              None       7400955  \n",
       "1              None       7442979  \n",
       "2              None       7610573  \n",
       "3              None       7610574  \n",
       "4              None       7610575  "
      ]
     },
     "execution_count": 6,
     "metadata": {},
     "output_type": "execute_result"
    }
   ],
   "source": [
    "data = pd.read_parquet('complaints.parquet')\n",
    "data.head()"
   ]
  },
  {
   "cell_type": "code",
   "execution_count": 7,
   "metadata": {},
   "outputs": [
    {
     "data": {
      "text/plain": [
       "Index(['Date_received', 'Product', 'Sub-product', 'Issue', 'Sub-issue',\n",
       "       'Consumer_complaint_narrative', 'Company_public_response', 'Company',\n",
       "       'State', 'ZIP_code', 'Tags', 'consumer_consent_provided',\n",
       "       'Submitted_via', 'Date_sent_to_company', 'Company_response_to_consumer',\n",
       "       'Timely_response', 'Consumer_disputed', 'Complaint_ID'],\n",
       "      dtype='object')"
      ]
     },
     "execution_count": 7,
     "metadata": {},
     "output_type": "execute_result"
    }
   ],
   "source": [
    "data.columns"
   ]
  },
  {
   "cell_type": "markdown",
   "metadata": {},
   "source": [
    "unique feature in target columns in percentage"
   ]
  },
  {
   "cell_type": "code",
   "execution_count": 9,
   "metadata": {},
   "outputs": [
    {
     "data": {
      "text/plain": [
       "Consumer_disputed\n",
       "No     80.68895\n",
       "Yes    19.31105\n",
       "Name: proportion, dtype: float64"
      ]
     },
     "execution_count": 9,
     "metadata": {},
     "output_type": "execute_result"
    }
   ],
   "source": [
    "data.Consumer_disputed.value_counts(normalize=True)*100"
   ]
  },
  {
   "cell_type": "markdown",
   "metadata": {},
   "source": [
    "shape of the dataset"
   ]
  },
  {
   "cell_type": "code",
   "execution_count": null,
   "metadata": {},
   "outputs": [
    {
     "data": {
      "text/plain": [
       "(4118869, 18)"
      ]
     },
     "execution_count": 11,
     "metadata": {},
     "output_type": "execute_result"
    }
   ],
   "source": [
    "data.shape"
   ]
  },
  {
   "cell_type": "markdown",
   "metadata": {},
   "source": [
    "since this is text data some rows could have just '' we can replace them with np.NAN "
   ]
  },
  {
   "cell_type": "code",
   "execution_count": null,
   "metadata": {},
   "outputs": [],
   "source": [
    "import numpy as np\n",
    "data.replace('',np.nan,inplace=True)"
   ]
  },
  {
   "cell_type": "markdown",
   "metadata": {},
   "source": [
    "summary of the data"
   ]
  },
  {
   "cell_type": "code",
   "execution_count": null,
   "metadata": {},
   "outputs": [
    {
     "data": {
      "text/html": [
       "<div>\n",
       "<style scoped>\n",
       "    .dataframe tbody tr th:only-of-type {\n",
       "        vertical-align: middle;\n",
       "    }\n",
       "\n",
       "    .dataframe tbody tr th {\n",
       "        vertical-align: top;\n",
       "    }\n",
       "\n",
       "    .dataframe thead th {\n",
       "        text-align: right;\n",
       "    }\n",
       "</style>\n",
       "<table border=\"1\" class=\"dataframe\">\n",
       "  <thead>\n",
       "    <tr style=\"text-align: right;\">\n",
       "      <th></th>\n",
       "      <th>count</th>\n",
       "      <th>unique</th>\n",
       "      <th>top</th>\n",
       "      <th>freq</th>\n",
       "    </tr>\n",
       "  </thead>\n",
       "  <tbody>\n",
       "    <tr>\n",
       "      <th>Date_received</th>\n",
       "      <td>4118869</td>\n",
       "      <td>4317</td>\n",
       "      <td>2023-08-08</td>\n",
       "      <td>5183</td>\n",
       "    </tr>\n",
       "    <tr>\n",
       "      <th>Product</th>\n",
       "      <td>4118869</td>\n",
       "      <td>21</td>\n",
       "      <td>Credit reporting, credit repair services, or o...</td>\n",
       "      <td>2166089</td>\n",
       "    </tr>\n",
       "    <tr>\n",
       "      <th>Sub-product</th>\n",
       "      <td>3883578</td>\n",
       "      <td>86</td>\n",
       "      <td>Credit reporting</td>\n",
       "      <td>2232191</td>\n",
       "    </tr>\n",
       "    <tr>\n",
       "      <th>Issue</th>\n",
       "      <td>4118869</td>\n",
       "      <td>177</td>\n",
       "      <td>Incorrect information on your report</td>\n",
       "      <td>1078953</td>\n",
       "    </tr>\n",
       "    <tr>\n",
       "      <th>Sub-issue</th>\n",
       "      <td>3401596</td>\n",
       "      <td>268</td>\n",
       "      <td>Information belongs to someone else</td>\n",
       "      <td>709110</td>\n",
       "    </tr>\n",
       "    <tr>\n",
       "      <th>Consumer_complaint_narrative</th>\n",
       "      <td>1493344</td>\n",
       "      <td>1261353</td>\n",
       "      <td>My name is XXXX XXXX this complaint is not mad...</td>\n",
       "      <td>2228</td>\n",
       "    </tr>\n",
       "    <tr>\n",
       "      <th>Company_public_response</th>\n",
       "      <td>1911386</td>\n",
       "      <td>11</td>\n",
       "      <td>Company has responded to the consumer and the ...</td>\n",
       "      <td>1682263</td>\n",
       "    </tr>\n",
       "    <tr>\n",
       "      <th>Company</th>\n",
       "      <td>4118869</td>\n",
       "      <td>6962</td>\n",
       "      <td>EQUIFAX, INC.</td>\n",
       "      <td>790155</td>\n",
       "    </tr>\n",
       "    <tr>\n",
       "      <th>State</th>\n",
       "      <td>4075613</td>\n",
       "      <td>63</td>\n",
       "      <td>CA</td>\n",
       "      <td>480549</td>\n",
       "    </tr>\n",
       "    <tr>\n",
       "      <th>ZIP_code</th>\n",
       "      <td>4088656</td>\n",
       "      <td>33098</td>\n",
       "      <td>XXXXX</td>\n",
       "      <td>102226</td>\n",
       "    </tr>\n",
       "    <tr>\n",
       "      <th>Tags</th>\n",
       "      <td>428507</td>\n",
       "      <td>3</td>\n",
       "      <td>Servicemember</td>\n",
       "      <td>248128</td>\n",
       "    </tr>\n",
       "    <tr>\n",
       "      <th>consumer_consent_provided</th>\n",
       "      <td>3216986</td>\n",
       "      <td>4</td>\n",
       "      <td>Consent not provided</td>\n",
       "      <td>1560985</td>\n",
       "    </tr>\n",
       "    <tr>\n",
       "      <th>Submitted_via</th>\n",
       "      <td>4118869</td>\n",
       "      <td>7</td>\n",
       "      <td>Web</td>\n",
       "      <td>3591645</td>\n",
       "    </tr>\n",
       "    <tr>\n",
       "      <th>Date_sent_to_company</th>\n",
       "      <td>4118869</td>\n",
       "      <td>4266</td>\n",
       "      <td>2023-08-08</td>\n",
       "      <td>5279</td>\n",
       "    </tr>\n",
       "    <tr>\n",
       "      <th>Company_response_to_consumer</th>\n",
       "      <td>4118864</td>\n",
       "      <td>8</td>\n",
       "      <td>Closed with explanation</td>\n",
       "      <td>2977486</td>\n",
       "    </tr>\n",
       "    <tr>\n",
       "      <th>Timely_response</th>\n",
       "      <td>4118869</td>\n",
       "      <td>2</td>\n",
       "      <td>Yes</td>\n",
       "      <td>4064821</td>\n",
       "    </tr>\n",
       "    <tr>\n",
       "      <th>Consumer_disputed</th>\n",
       "      <td>768358</td>\n",
       "      <td>2</td>\n",
       "      <td>No</td>\n",
       "      <td>619980</td>\n",
       "    </tr>\n",
       "  </tbody>\n",
       "</table>\n",
       "</div>"
      ],
      "text/plain": [
       "                                count   unique  \\\n",
       "Date_received                 4118869     4317   \n",
       "Product                       4118869       21   \n",
       "Sub-product                   3883578       86   \n",
       "Issue                         4118869      177   \n",
       "Sub-issue                     3401596      268   \n",
       "Consumer_complaint_narrative  1493344  1261353   \n",
       "Company_public_response       1911386       11   \n",
       "Company                       4118869     6962   \n",
       "State                         4075613       63   \n",
       "ZIP_code                      4088656    33098   \n",
       "Tags                           428507        3   \n",
       "consumer_consent_provided     3216986        4   \n",
       "Submitted_via                 4118869        7   \n",
       "Date_sent_to_company          4118869     4266   \n",
       "Company_response_to_consumer  4118864        8   \n",
       "Timely_response               4118869        2   \n",
       "Consumer_disputed              768358        2   \n",
       "\n",
       "                                                                            top  \\\n",
       "Date_received                                                        2023-08-08   \n",
       "Product                       Credit reporting, credit repair services, or o...   \n",
       "Sub-product                                                    Credit reporting   \n",
       "Issue                                      Incorrect information on your report   \n",
       "Sub-issue                                   Information belongs to someone else   \n",
       "Consumer_complaint_narrative  My name is XXXX XXXX this complaint is not mad...   \n",
       "Company_public_response       Company has responded to the consumer and the ...   \n",
       "Company                                                           EQUIFAX, INC.   \n",
       "State                                                                        CA   \n",
       "ZIP_code                                                                  XXXXX   \n",
       "Tags                                                              Servicemember   \n",
       "consumer_consent_provided                                  Consent not provided   \n",
       "Submitted_via                                                               Web   \n",
       "Date_sent_to_company                                                 2023-08-08   \n",
       "Company_response_to_consumer                            Closed with explanation   \n",
       "Timely_response                                                             Yes   \n",
       "Consumer_disputed                                                            No   \n",
       "\n",
       "                                 freq  \n",
       "Date_received                    5183  \n",
       "Product                       2166089  \n",
       "Sub-product                   2232191  \n",
       "Issue                         1078953  \n",
       "Sub-issue                      709110  \n",
       "Consumer_complaint_narrative     2228  \n",
       "Company_public_response       1682263  \n",
       "Company                        790155  \n",
       "State                          480549  \n",
       "ZIP_code                       102226  \n",
       "Tags                           248128  \n",
       "consumer_consent_provided     1560985  \n",
       "Submitted_via                 3591645  \n",
       "Date_sent_to_company             5279  \n",
       "Company_response_to_consumer  2977486  \n",
       "Timely_response               4064821  \n",
       "Consumer_disputed              619980  "
      ]
     },
     "execution_count": 18,
     "metadata": {},
     "output_type": "execute_result"
    }
   ],
   "source": [
    "data.describe(include='object').T"
   ]
  },
  {
   "cell_type": "markdown",
   "metadata": {},
   "source": [
    "check data type of the data"
   ]
  },
  {
   "cell_type": "code",
   "execution_count": null,
   "metadata": {},
   "outputs": [
    {
     "name": "stdout",
     "output_type": "stream",
     "text": [
      "<class 'pandas.core.frame.DataFrame'>\n",
      "RangeIndex: 4118869 entries, 0 to 4118868\n",
      "Data columns (total 18 columns):\n",
      " #   Column                        Dtype \n",
      "---  ------                        ----- \n",
      " 0   Date_received                 object\n",
      " 1   Product                       object\n",
      " 2   Sub-product                   object\n",
      " 3   Issue                         object\n",
      " 4   Sub-issue                     object\n",
      " 5   Consumer_complaint_narrative  object\n",
      " 6   Company_public_response       object\n",
      " 7   Company                       object\n",
      " 8   State                         object\n",
      " 9   ZIP_code                      object\n",
      " 10  Tags                          object\n",
      " 11  consumer_consent_provided     object\n",
      " 12  Submitted_via                 object\n",
      " 13  Date_sent_to_company          object\n",
      " 14  Company_response_to_consumer  object\n",
      " 15  Timely_response               object\n",
      " 16  Consumer_disputed             object\n",
      " 17  Complaint_ID                  int64 \n",
      "dtypes: int64(1), object(17)\n",
      "memory usage: 565.6+ MB\n"
     ]
    }
   ],
   "source": [
    "data.info()"
   ]
  },
  {
   "cell_type": "code",
   "execution_count": null,
   "metadata": {},
   "outputs": [
    {
     "data": {
      "text/plain": [
       "['Complaint_ID']"
      ]
     },
     "execution_count": 19,
     "metadata": {},
     "output_type": "execute_result"
    }
   ],
   "source": [
    "numerical_feature  = [feature for feature in data.columns if data[feature].dtypes!='O']\n",
    "numerical_feature"
   ]
  },
  {
   "cell_type": "code",
   "execution_count": null,
   "metadata": {},
   "outputs": [
    {
     "data": {
      "text/plain": [
       "['Date_received',\n",
       " 'Product',\n",
       " 'Sub-product',\n",
       " 'Issue',\n",
       " 'Sub-issue',\n",
       " 'Consumer_complaint_narrative',\n",
       " 'Company_public_response',\n",
       " 'Company',\n",
       " 'State',\n",
       " 'ZIP_code',\n",
       " 'Tags',\n",
       " 'consumer_consent_provided',\n",
       " 'Submitted_via',\n",
       " 'Date_sent_to_company',\n",
       " 'Company_response_to_consumer',\n",
       " 'Timely_response',\n",
       " 'Consumer_disputed']"
      ]
     },
     "execution_count": 21,
     "metadata": {},
     "output_type": "execute_result"
    }
   ],
   "source": [
    "categorical_feature  = [feature for feature in data.columns if data[feature].dtypes=='O']\n",
    "categorical_feature"
   ]
  },
  {
   "cell_type": "code",
   "execution_count": null,
   "metadata": {},
   "outputs": [
    {
     "data": {
      "text/html": [
       "<div>\n",
       "<style scoped>\n",
       "    .dataframe tbody tr th:only-of-type {\n",
       "        vertical-align: middle;\n",
       "    }\n",
       "\n",
       "    .dataframe tbody tr th {\n",
       "        vertical-align: top;\n",
       "    }\n",
       "\n",
       "    .dataframe thead th {\n",
       "        text-align: right;\n",
       "    }\n",
       "</style>\n",
       "<table border=\"1\" class=\"dataframe\">\n",
       "  <thead>\n",
       "    <tr style=\"text-align: right;\">\n",
       "      <th></th>\n",
       "      <th>0</th>\n",
       "    </tr>\n",
       "  </thead>\n",
       "  <tbody>\n",
       "    <tr>\n",
       "      <th>Tags</th>\n",
       "      <td>89.596489</td>\n",
       "    </tr>\n",
       "    <tr>\n",
       "      <th>Consumer_disputed</th>\n",
       "      <td>81.345413</td>\n",
       "    </tr>\n",
       "    <tr>\n",
       "      <th>Consumer_complaint_narrative</th>\n",
       "      <td>63.743834</td>\n",
       "    </tr>\n",
       "    <tr>\n",
       "      <th>Company_public_response</th>\n",
       "      <td>53.594397</td>\n",
       "    </tr>\n",
       "    <tr>\n",
       "      <th>consumer_consent_provided</th>\n",
       "      <td>21.896375</td>\n",
       "    </tr>\n",
       "    <tr>\n",
       "      <th>Sub-issue</th>\n",
       "      <td>17.414319</td>\n",
       "    </tr>\n",
       "    <tr>\n",
       "      <th>Sub-product</th>\n",
       "      <td>5.712515</td>\n",
       "    </tr>\n",
       "    <tr>\n",
       "      <th>State</th>\n",
       "      <td>1.050191</td>\n",
       "    </tr>\n",
       "    <tr>\n",
       "      <th>ZIP_code</th>\n",
       "      <td>0.733527</td>\n",
       "    </tr>\n",
       "    <tr>\n",
       "      <th>Company_response_to_consumer</th>\n",
       "      <td>0.000121</td>\n",
       "    </tr>\n",
       "    <tr>\n",
       "      <th>Date_sent_to_company</th>\n",
       "      <td>0.000000</td>\n",
       "    </tr>\n",
       "    <tr>\n",
       "      <th>Timely_response</th>\n",
       "      <td>0.000000</td>\n",
       "    </tr>\n",
       "    <tr>\n",
       "      <th>Date_received</th>\n",
       "      <td>0.000000</td>\n",
       "    </tr>\n",
       "    <tr>\n",
       "      <th>Submitted_via</th>\n",
       "      <td>0.000000</td>\n",
       "    </tr>\n",
       "    <tr>\n",
       "      <th>Product</th>\n",
       "      <td>0.000000</td>\n",
       "    </tr>\n",
       "    <tr>\n",
       "      <th>Company</th>\n",
       "      <td>0.000000</td>\n",
       "    </tr>\n",
       "    <tr>\n",
       "      <th>Issue</th>\n",
       "      <td>0.000000</td>\n",
       "    </tr>\n",
       "    <tr>\n",
       "      <th>Complaint_ID</th>\n",
       "      <td>0.000000</td>\n",
       "    </tr>\n",
       "  </tbody>\n",
       "</table>\n",
       "</div>"
      ],
      "text/plain": [
       "                                      0\n",
       "Tags                          89.596489\n",
       "Consumer_disputed             81.345413\n",
       "Consumer_complaint_narrative  63.743834\n",
       "Company_public_response       53.594397\n",
       "consumer_consent_provided     21.896375\n",
       "Sub-issue                     17.414319\n",
       "Sub-product                    5.712515\n",
       "State                          1.050191\n",
       "ZIP_code                       0.733527\n",
       "Company_response_to_consumer   0.000121\n",
       "Date_sent_to_company           0.000000\n",
       "Timely_response                0.000000\n",
       "Date_received                  0.000000\n",
       "Submitted_via                  0.000000\n",
       "Product                        0.000000\n",
       "Company                        0.000000\n",
       "Issue                          0.000000\n",
       "Complaint_ID                   0.000000"
      ]
     },
     "execution_count": 26,
     "metadata": {},
     "output_type": "execute_result"
    }
   ],
   "source": [
    "null_values = data.isnull().sum().div(data.shape[0]).mul(100).to_frame().sort_values(0,ascending=False)\n",
    "null_values"
   ]
  },
  {
   "cell_type": "code",
   "execution_count": 10,
   "metadata": {},
   "outputs": [
    {
     "data": {
      "text/plain": [
       "Consumer_disputed\n",
       "No     619980\n",
       "Yes    148378\n",
       "Name: count, dtype: int64"
      ]
     },
     "execution_count": 10,
     "metadata": {},
     "output_type": "execute_result"
    }
   ],
   "source": [
    "df['Consumer_disputed'].value_counts()"
   ]
  },
  {
   "cell_type": "markdown",
   "metadata": {},
   "source": [
    "we can see our dependent feature have 81.34% null feature and according to CFPB it is </br>\n",
    "N/A: The Bureau discontinued the consumer dispute option on April 24, 2017."
   ]
  },
  {
   "cell_type": "markdown",
   "metadata": {},
   "source": [
    "If we drop the null rows also we still have 768358 rows which might be sufficient for training our model"
   ]
  },
  {
   "cell_type": "code",
   "execution_count": null,
   "metadata": {},
   "outputs": [],
   "source": [
    "columns = ['Tags','Consumer_complaint_narrative','Company_public_response','Complaint_ID','ZIP_code','Sub-issue']\n",
    "data.drop(columns,inplace=True,axis=1)"
   ]
  },
  {
   "cell_type": "code",
   "execution_count": null,
   "metadata": {},
   "outputs": [
    {
     "data": {
      "text/html": [
       "<div>\n",
       "<style scoped>\n",
       "    .dataframe tbody tr th:only-of-type {\n",
       "        vertical-align: middle;\n",
       "    }\n",
       "\n",
       "    .dataframe tbody tr th {\n",
       "        vertical-align: top;\n",
       "    }\n",
       "\n",
       "    .dataframe thead th {\n",
       "        text-align: right;\n",
       "    }\n",
       "</style>\n",
       "<table border=\"1\" class=\"dataframe\">\n",
       "  <thead>\n",
       "    <tr style=\"text-align: right;\">\n",
       "      <th></th>\n",
       "      <th>Date_received</th>\n",
       "      <th>Product</th>\n",
       "      <th>Sub-product</th>\n",
       "      <th>Issue</th>\n",
       "      <th>Company</th>\n",
       "      <th>State</th>\n",
       "      <th>consumer_consent_provided</th>\n",
       "      <th>Submitted_via</th>\n",
       "      <th>Date_sent_to_company</th>\n",
       "      <th>Company_response_to_consumer</th>\n",
       "      <th>Timely_response</th>\n",
       "      <th>Consumer_disputed</th>\n",
       "    </tr>\n",
       "  </thead>\n",
       "  <tbody>\n",
       "    <tr>\n",
       "      <th>0</th>\n",
       "      <td>2023-08-14</td>\n",
       "      <td>Debt collection</td>\n",
       "      <td>Credit card debt</td>\n",
       "      <td>Attempts to collect debt not owed</td>\n",
       "      <td>SYNCHRONY FINANCIAL</td>\n",
       "      <td>CA</td>\n",
       "      <td>None</td>\n",
       "      <td>Web</td>\n",
       "      <td>2023-08-14</td>\n",
       "      <td>In progress</td>\n",
       "      <td>Yes</td>\n",
       "      <td>None</td>\n",
       "    </tr>\n",
       "    <tr>\n",
       "      <th>1</th>\n",
       "      <td>2023-08-23</td>\n",
       "      <td>Credit reporting, credit repair services, or o...</td>\n",
       "      <td>Credit reporting</td>\n",
       "      <td>Problem with a credit reporting company's inve...</td>\n",
       "      <td>EQUIFAX, INC.</td>\n",
       "      <td>TN</td>\n",
       "      <td>None</td>\n",
       "      <td>Web</td>\n",
       "      <td>2023-08-23</td>\n",
       "      <td>Closed with non-monetary relief</td>\n",
       "      <td>Yes</td>\n",
       "      <td>None</td>\n",
       "    </tr>\n",
       "    <tr>\n",
       "      <th>2</th>\n",
       "      <td>2023-09-27</td>\n",
       "      <td>Credit reporting or other personal consumer re...</td>\n",
       "      <td>Credit reporting</td>\n",
       "      <td>Problem with a company's investigation into an...</td>\n",
       "      <td>EQUIFAX, INC.</td>\n",
       "      <td>IL</td>\n",
       "      <td>None</td>\n",
       "      <td>Web</td>\n",
       "      <td>2023-09-27</td>\n",
       "      <td>In progress</td>\n",
       "      <td>Yes</td>\n",
       "      <td>None</td>\n",
       "    </tr>\n",
       "    <tr>\n",
       "      <th>3</th>\n",
       "      <td>2023-09-27</td>\n",
       "      <td>Credit reporting or other personal consumer re...</td>\n",
       "      <td>Credit reporting</td>\n",
       "      <td>Problem with a company's investigation into an...</td>\n",
       "      <td>EQUIFAX, INC.</td>\n",
       "      <td>FL</td>\n",
       "      <td>None</td>\n",
       "      <td>Web</td>\n",
       "      <td>2023-09-27</td>\n",
       "      <td>In progress</td>\n",
       "      <td>Yes</td>\n",
       "      <td>None</td>\n",
       "    </tr>\n",
       "    <tr>\n",
       "      <th>4</th>\n",
       "      <td>2023-09-27</td>\n",
       "      <td>Credit reporting or other personal consumer re...</td>\n",
       "      <td>Credit reporting</td>\n",
       "      <td>Incorrect information on your report</td>\n",
       "      <td>EQUIFAX, INC.</td>\n",
       "      <td>TN</td>\n",
       "      <td>None</td>\n",
       "      <td>Web</td>\n",
       "      <td>2023-09-27</td>\n",
       "      <td>In progress</td>\n",
       "      <td>Yes</td>\n",
       "      <td>None</td>\n",
       "    </tr>\n",
       "  </tbody>\n",
       "</table>\n",
       "</div>"
      ],
      "text/plain": [
       "  Date_received                                            Product  \\\n",
       "0    2023-08-14                                    Debt collection   \n",
       "1    2023-08-23  Credit reporting, credit repair services, or o...   \n",
       "2    2023-09-27  Credit reporting or other personal consumer re...   \n",
       "3    2023-09-27  Credit reporting or other personal consumer re...   \n",
       "4    2023-09-27  Credit reporting or other personal consumer re...   \n",
       "\n",
       "        Sub-product                                              Issue  \\\n",
       "0  Credit card debt                  Attempts to collect debt not owed   \n",
       "1  Credit reporting  Problem with a credit reporting company's inve...   \n",
       "2  Credit reporting  Problem with a company's investigation into an...   \n",
       "3  Credit reporting  Problem with a company's investigation into an...   \n",
       "4  Credit reporting               Incorrect information on your report   \n",
       "\n",
       "               Company State consumer_consent_provided Submitted_via  \\\n",
       "0  SYNCHRONY FINANCIAL    CA                      None           Web   \n",
       "1        EQUIFAX, INC.    TN                      None           Web   \n",
       "2        EQUIFAX, INC.    IL                      None           Web   \n",
       "3        EQUIFAX, INC.    FL                      None           Web   \n",
       "4        EQUIFAX, INC.    TN                      None           Web   \n",
       "\n",
       "  Date_sent_to_company     Company_response_to_consumer Timely_response  \\\n",
       "0           2023-08-14                      In progress             Yes   \n",
       "1           2023-08-23  Closed with non-monetary relief             Yes   \n",
       "2           2023-09-27                      In progress             Yes   \n",
       "3           2023-09-27                      In progress             Yes   \n",
       "4           2023-09-27                      In progress             Yes   \n",
       "\n",
       "  Consumer_disputed  \n",
       "0              None  \n",
       "1              None  \n",
       "2              None  \n",
       "3              None  \n",
       "4              None  "
      ]
     },
     "execution_count": 28,
     "metadata": {},
     "output_type": "execute_result"
    }
   ],
   "source": [
    "data.head()"
   ]
  },
  {
   "cell_type": "code",
   "execution_count": null,
   "metadata": {},
   "outputs": [
    {
     "name": "stdout",
     "output_type": "stream",
     "text": [
      "Date_received 4317\n",
      "Product 21\n",
      "Sub-product 86\n",
      "Issue 177\n",
      "Company 6962\n",
      "State 63\n",
      "consumer_consent_provided 4\n",
      "Submitted_via 7\n",
      "Date_sent_to_company 4266\n",
      "Company_response_to_consumer 8\n",
      "Timely_response 2\n",
      "Consumer_disputed 2\n"
     ]
    }
   ],
   "source": [
    "for col in data.columns:\n",
    "    print(col,data[col].nunique())"
   ]
  },
  {
   "cell_type": "markdown",
   "metadata": {},
   "source": [
    "Visualization of target columns"
   ]
  },
  {
   "cell_type": "code",
   "execution_count": null,
   "metadata": {},
   "outputs": [
    {
     "data": {
      "image/png": "[encoded data removed]",
      "text/plain": [
       "<Figure size 936x576 with 1 Axes>"
      ]
     },
     "metadata": {},
     "output_type": "display_data"
    }
   ],
   "source": [
    "import matplotlib.pyplot as plt\n",
    "\n",
    "percentage = data['Consumer_disputed'].value_counts(normalize=True) * 100\n",
    "labels = ['Yes', 'No']\n",
    "explode = (0.1, 0)  # Explode the 'Yes' category (adjust the value as needed)\n",
    "\n",
    "fig, ax = plt.subplots(figsize=(13, 8))\n",
    "colors = ['#a63a2a', '#1188ff']\n",
    "ax.pie(percentage, labels=labels, startangle=90,\n",
    "       autopct='%1.1f%%', explode=explode, shadow=True, colors=colors)\n",
    "plt.show()"
   ]
  },
  {
   "cell_type": "markdown",
   "metadata": {},
   "source": [
    "From the chart it is clear that data is imbalanced"
   ]
  },
  {
   "cell_type": "markdown",
   "metadata": {},
   "source": [
    "\n",
    "product on which complaint were made"
   ]
  },
  {
   "cell_type": "markdown",
   "metadata": {},
   "source": [
    "From the chart it is clear that data is imbalanced\n",
    "product on which complaint were made\n",
    "The type of the product on which costumer made complaint"
   ]
  },
  {
   "cell_type": "code",
   "execution_count": null,
   "metadata": {},
   "outputs": [
    {
     "data": {
      "text/plain": [
       "Index(['Date_received', 'Product', 'Sub-product', 'Issue', 'Company', 'State',\n",
       "       'consumer_consent_provided', 'Submitted_via', 'Date_sent_to_company',\n",
       "       'Company_response_to_consumer', 'Timely_response', 'Consumer_disputed'],\n",
       "      dtype='object')"
      ]
     },
     "execution_count": 40,
     "metadata": {},
     "output_type": "execute_result"
    }
   ],
   "source": [
    "data.columns"
   ]
  },
  {
   "cell_type": "code",
   "execution_count": null,
   "metadata": {},
   "outputs": [
    {
     "data": {
      "text/plain": [
       "Product\n",
       "Credit reporting, credit repair services, or other personal consumer reports    52.589412\n",
       "Debt collection                                                                 12.332220\n",
       "Mortgage                                                                         9.335937\n",
       "Credit card or prepaid card                                                      5.008511\n",
       "Checking or savings account                                                      4.458141\n",
       "Credit reporting                                                                 3.409407\n",
       "Credit card                                                                      2.261155\n",
       "Credit reporting or other personal consumer reports                              2.133110\n",
       "Bank account or service                                                          2.092929\n",
       "Student loan                                                                     1.869348\n",
       "Money transfer, virtual currency, or money service                               1.433913\n",
       "Vehicle loan or lease                                                            1.163038\n",
       "Consumer Loan                                                                    0.766594\n",
       "Payday loan, title loan, or personal loan                                        0.743675\n",
       "Payday loan                                                                      0.134527\n",
       "Money transfers                                                                  0.129987\n",
       "Prepaid card                                                                     0.099688\n",
       "Other financial service                                                          0.025687\n",
       "Payday loan, title loan, personal loan, or advance loan                          0.010270\n",
       "Debt or credit management                                                        0.002015\n",
       "Virtual currency                                                                 0.000437\n",
       "Name: proportion, dtype: float64"
      ]
     },
     "execution_count": 41,
     "metadata": {},
     "output_type": "execute_result"
    }
   ],
   "source": [
    "product_percenatge = data['Product'].value_counts(normalize=True)*100\n",
    "product_percenatge"
   ]
  },
  {
   "cell_type": "markdown",
   "metadata": {},
   "source": [
    "visualizint the data"
   ]
  },
  {
   "cell_type": "code",
   "execution_count": null,
   "metadata": {},
   "outputs": [
    {
     "data": {
      "image/png": "[encoded data removed]",
      "text/plain": [
       "<Figure size 720x864 with 1 Axes>"
      ]
     },
     "metadata": {},
     "output_type": "display_data"
    }
   ],
   "source": [
    "product_labels = product_percenatge.index\n",
    "colors = ['yellowgreen','red','gold','lightskyblue','darkorange','lightcoral','blue',\n",
    "          'pink','darkgreen','yellow','grey','violet','magenta','cyan']\n",
    "fig,ax = plt.subplots(figsize=(10,12))\n",
    "patches,texts  = ax.pie(product_percenatge,startangle = 90, shadow=True,colors=colors,\n",
    "                        radius=1.2)\n",
    "plt.legend(patches,product_labels,loc='best',bbox_to_anchor=(-0.1,1.),fontsize=14)\n",
    "plt.show()"
   ]
  },
  {
   "cell_type": "markdown",
   "metadata": {},
   "source": [
    "States in  US and their impact on the target feature\n",
    "  "
   ]
  },
  {
   "cell_type": "markdown",
   "metadata": {},
   "source": [
    "\n",
    "The state of the mailing address provided by the consumers"
   ]
  },
  {
   "cell_type": "code",
   "execution_count": null,
   "metadata": {},
   "outputs": [
    {
     "data": {
      "text/html": [
       "<div>\n",
       "<style scoped>\n",
       "    .dataframe tbody tr th:only-of-type {\n",
       "        vertical-align: middle;\n",
       "    }\n",
       "\n",
       "    .dataframe tbody tr th {\n",
       "        vertical-align: top;\n",
       "    }\n",
       "\n",
       "    .dataframe thead th {\n",
       "        text-align: right;\n",
       "    }\n",
       "</style>\n",
       "<table border=\"1\" class=\"dataframe\">\n",
       "  <thead>\n",
       "    <tr style=\"text-align: right;\">\n",
       "      <th></th>\n",
       "      <th>proportion</th>\n",
       "    </tr>\n",
       "    <tr>\n",
       "      <th>State</th>\n",
       "      <th></th>\n",
       "    </tr>\n",
       "  </thead>\n",
       "  <tbody>\n",
       "    <tr>\n",
       "      <th>CA</th>\n",
       "      <td>11.790840</td>\n",
       "    </tr>\n",
       "    <tr>\n",
       "      <th>FL</th>\n",
       "      <td>11.694928</td>\n",
       "    </tr>\n",
       "    <tr>\n",
       "      <th>TX</th>\n",
       "      <td>10.358785</td>\n",
       "    </tr>\n",
       "    <tr>\n",
       "      <th>GA</th>\n",
       "      <td>6.741440</td>\n",
       "    </tr>\n",
       "    <tr>\n",
       "      <th>NY</th>\n",
       "      <td>6.481921</td>\n",
       "    </tr>\n",
       "    <tr>\n",
       "      <th>PA</th>\n",
       "      <td>4.716591</td>\n",
       "    </tr>\n",
       "    <tr>\n",
       "      <th>IL</th>\n",
       "      <td>4.048593</td>\n",
       "    </tr>\n",
       "    <tr>\n",
       "      <th>NJ</th>\n",
       "      <td>3.398900</td>\n",
       "    </tr>\n",
       "    <tr>\n",
       "      <th>NC</th>\n",
       "      <td>3.314618</td>\n",
       "    </tr>\n",
       "    <tr>\n",
       "      <th>MD</th>\n",
       "      <td>2.672776</td>\n",
       "    </tr>\n",
       "  </tbody>\n",
       "</table>\n",
       "</div>"
      ],
      "text/plain": [
       "       proportion\n",
       "State            \n",
       "CA      11.790840\n",
       "FL      11.694928\n",
       "TX      10.358785\n",
       "GA       6.741440\n",
       "NY       6.481921\n",
       "PA       4.716591\n",
       "IL       4.048593\n",
       "NJ       3.398900\n",
       "NC       3.314618\n",
       "MD       2.672776"
      ]
     },
     "execution_count": 47,
     "metadata": {},
     "output_type": "execute_result"
    }
   ],
   "source": [
    "top_states = df.State.value_counts(normalize=True)[0:10]*100\n",
    "top_states.to_frame()"
   ]
  },
  {
   "cell_type": "code",
   "execution_count": null,
   "metadata": {},
   "outputs": [
    {
     "data": {
      "text/plain": [
       "<Axes: xlabel='State'>"
      ]
     },
     "execution_count": 50,
     "metadata": {},
     "output_type": "execute_result"
    },
    {
     "data": {
      "image/png": "[encoded data removed]",
      "text/plain": [
       "<Figure size 1080x504 with 1 Axes>"
      ]
     },
     "metadata": {
      "needs_background": "light"
     },
     "output_type": "display_data"
    }
   ],
   "source": [
    "plt.subplots(figsize=(15,7))\n",
    "top_states.plot(kind='bar',color='blue')"
   ]
  },
  {
   "cell_type": "markdown",
   "metadata": {},
   "source": [
    "Company's Response and its effect on Target feature"
   ]
  },
  {
   "cell_type": "markdown",
   "metadata": {},
   "source": [
    "Company's Response and its effect on Target feature\n",
    "The company's mandatory response for the particular complaint"
   ]
  },
  {
   "cell_type": "code",
   "execution_count": null,
   "metadata": {},
   "outputs": [
    {
     "data": {
      "text/html": [
       "<div>\n",
       "<style scoped>\n",
       "    .dataframe tbody tr th:only-of-type {\n",
       "        vertical-align: middle;\n",
       "    }\n",
       "\n",
       "    .dataframe tbody tr th {\n",
       "        vertical-align: top;\n",
       "    }\n",
       "\n",
       "    .dataframe thead th {\n",
       "        text-align: right;\n",
       "    }\n",
       "</style>\n",
       "<table border=\"1\" class=\"dataframe\">\n",
       "  <thead>\n",
       "    <tr style=\"text-align: right;\">\n",
       "      <th></th>\n",
       "      <th></th>\n",
       "      <th>proportion</th>\n",
       "    </tr>\n",
       "    <tr>\n",
       "      <th>Company_response_to_consumer</th>\n",
       "      <th>Consumer_disputed</th>\n",
       "      <th></th>\n",
       "    </tr>\n",
       "  </thead>\n",
       "  <tbody>\n",
       "    <tr>\n",
       "      <th rowspan=\"2\" valign=\"top\">Closed</th>\n",
       "      <th>No</th>\n",
       "      <td>79.416274</td>\n",
       "    </tr>\n",
       "    <tr>\n",
       "      <th>Yes</th>\n",
       "      <td>20.583726</td>\n",
       "    </tr>\n",
       "    <tr>\n",
       "      <th rowspan=\"2\" valign=\"top\">Closed with explanation</th>\n",
       "      <th>No</th>\n",
       "      <td>78.771353</td>\n",
       "    </tr>\n",
       "    <tr>\n",
       "      <th>Yes</th>\n",
       "      <td>21.228647</td>\n",
       "    </tr>\n",
       "    <tr>\n",
       "      <th rowspan=\"2\" valign=\"top\">Closed with monetary relief</th>\n",
       "      <th>No</th>\n",
       "      <td>89.415405</td>\n",
       "    </tr>\n",
       "    <tr>\n",
       "      <th>Yes</th>\n",
       "      <td>10.584595</td>\n",
       "    </tr>\n",
       "    <tr>\n",
       "      <th rowspan=\"2\" valign=\"top\">Closed with non-monetary relief</th>\n",
       "      <th>No</th>\n",
       "      <td>88.370777</td>\n",
       "    </tr>\n",
       "    <tr>\n",
       "      <th>Yes</th>\n",
       "      <td>11.629223</td>\n",
       "    </tr>\n",
       "    <tr>\n",
       "      <th rowspan=\"2\" valign=\"top\">Closed with relief</th>\n",
       "      <th>No</th>\n",
       "      <td>86.651584</td>\n",
       "    </tr>\n",
       "    <tr>\n",
       "      <th>Yes</th>\n",
       "      <td>13.348416</td>\n",
       "    </tr>\n",
       "    <tr>\n",
       "      <th rowspan=\"2\" valign=\"top\">Closed without relief</th>\n",
       "      <th>No</th>\n",
       "      <td>73.074771</td>\n",
       "    </tr>\n",
       "    <tr>\n",
       "      <th>Yes</th>\n",
       "      <td>26.925229</td>\n",
       "    </tr>\n",
       "    <tr>\n",
       "      <th rowspan=\"2\" valign=\"top\">Untimely response</th>\n",
       "      <th>No</th>\n",
       "      <td>99.928264</td>\n",
       "    </tr>\n",
       "    <tr>\n",
       "      <th>Yes</th>\n",
       "      <td>0.071736</td>\n",
       "    </tr>\n",
       "  </tbody>\n",
       "</table>\n",
       "</div>"
      ],
      "text/plain": [
       "                                                   proportion\n",
       "Company_response_to_consumer    Consumer_disputed            \n",
       "Closed                          No                  79.416274\n",
       "                                Yes                 20.583726\n",
       "Closed with explanation         No                  78.771353\n",
       "                                Yes                 21.228647\n",
       "Closed with monetary relief     No                  89.415405\n",
       "                                Yes                 10.584595\n",
       "Closed with non-monetary relief No                  88.370777\n",
       "                                Yes                 11.629223\n",
       "Closed with relief              No                  86.651584\n",
       "                                Yes                 13.348416\n",
       "Closed without relief           No                  73.074771\n",
       "                                Yes                 26.925229\n",
       "Untimely response               No                  99.928264\n",
       "                                Yes                  0.071736"
      ]
     },
     "execution_count": 51,
     "metadata": {},
     "output_type": "execute_result"
    }
   ],
   "source": [
    "df.groupby('Company_response_to_consumer')['Consumer_disputed'].value_counts(normalize=True).to_frame()*100"
   ]
  },
  {
   "cell_type": "markdown",
   "metadata": {},
   "source": [
    "Proportion of consumer who has disputedd and company's responses"
   ]
  },
  {
   "cell_type": "code",
   "execution_count": null,
   "metadata": {},
   "outputs": [
    {
     "data": {
      "text/html": [
       "<div>\n",
       "<style scoped>\n",
       "    .dataframe tbody tr th:only-of-type {\n",
       "        vertical-align: middle;\n",
       "    }\n",
       "\n",
       "    .dataframe tbody tr th {\n",
       "        vertical-align: top;\n",
       "    }\n",
       "\n",
       "    .dataframe thead th {\n",
       "        text-align: right;\n",
       "    }\n",
       "</style>\n",
       "<table border=\"1\" class=\"dataframe\">\n",
       "  <thead>\n",
       "    <tr style=\"text-align: right;\">\n",
       "      <th></th>\n",
       "      <th>proportion</th>\n",
       "    </tr>\n",
       "    <tr>\n",
       "      <th>Company_response_to_consumer</th>\n",
       "      <th></th>\n",
       "    </tr>\n",
       "  </thead>\n",
       "  <tbody>\n",
       "    <tr>\n",
       "      <th>Closed with explanation</th>\n",
       "      <td>82.690830</td>\n",
       "    </tr>\n",
       "    <tr>\n",
       "      <th>Closed with non-monetary relief</th>\n",
       "      <td>7.479545</td>\n",
       "    </tr>\n",
       "    <tr>\n",
       "      <th>Closed with monetary relief</th>\n",
       "      <td>3.665638</td>\n",
       "    </tr>\n",
       "    <tr>\n",
       "      <th>Closed without relief</th>\n",
       "      <td>3.242394</td>\n",
       "    </tr>\n",
       "    <tr>\n",
       "      <th>Closed</th>\n",
       "      <td>2.443085</td>\n",
       "    </tr>\n",
       "    <tr>\n",
       "      <th>Closed with relief</th>\n",
       "      <td>0.477160</td>\n",
       "    </tr>\n",
       "    <tr>\n",
       "      <th>Untimely response</th>\n",
       "      <td>0.001348</td>\n",
       "    </tr>\n",
       "  </tbody>\n",
       "</table>\n",
       "</div>"
      ],
      "text/plain": [
       "                                 proportion\n",
       "Company_response_to_consumer               \n",
       "Closed with explanation           82.690830\n",
       "Closed with non-monetary relief    7.479545\n",
       "Closed with monetary relief        3.665638\n",
       "Closed without relief              3.242394\n",
       "Closed                             2.443085\n",
       "Closed with relief                 0.477160\n",
       "Untimely response                  0.001348"
      ]
     },
     "execution_count": 52,
     "metadata": {},
     "output_type": "execute_result"
    }
   ],
   "source": [
    "disputed_df = df.loc[df.Consumer_disputed=='Yes']\n",
    "disputed_df.Company_response_to_consumer.value_counts(normalize=True).to_frame()*100"
   ]
  },
  {
   "cell_type": "markdown",
   "metadata": {},
   "source": [
    "Visualization"
   ]
  },
  {
   "cell_type": "code",
   "execution_count": null,
   "metadata": {},
   "outputs": [
    {
     "data": {
      "image/png": "[encoded data removed]",
      "text/plain": [
       "<Figure size 1008x504 with 1 Axes>"
      ]
     },
     "metadata": {
      "needs_background": "light"
     },
     "output_type": "display_data"
    }
   ],
   "source": [
    "import seaborn as sns\n",
    "plt.subplots(figsize=(14, 7))\n",
    "sns.countplot(x='Company_response_to_consumer', hue='Consumer_disputed', data=data, palette='Set2_r')\n",
    "plt.title('Company_response_to_consumer vs. Consumer_disputed', weight=\"bold\")\n",
    "plt.ylabel('Dispute count', weight='bold', fontsize=16)\n",
    "plt.xlabel(\"Company's response\", weight='bold', fontsize=16)\n",
    "plt.xticks(rotation=20)\n",
    "plt.show()"
   ]
  },
  {
   "cell_type": "markdown",
   "metadata": {},
   "source": [
    "Finance Complaint Year and Disputed Consumer's count"
   ]
  },
  {
   "cell_type": "markdown",
   "metadata": {},
   "source": [
    "Finance Complaint Year and Disputed Consumer's countThe year when CFPB received the complaints"
   ]
  },
  {
   "cell_type": "markdown",
   "metadata": {},
   "source": [
    "As this is the imbalanced data visualizing only the data inwhich consumer have dispute on the  company's response"
   ]
  },
  {
   "cell_type": "code",
   "execution_count": null,
   "metadata": {},
   "outputs": [],
   "source": [
    "#create the copy of the dispute.consumer data\n",
    "vis_df = disputed_df.copy()\n",
    "vis_df['received_data'] = pd.to_datetime(vis_df['Date_received']).dt.date\n",
    "vis_df['received_month'] = pd.to_datetime(vis_df['Date_received']).dt.month\n",
    "vis_df['received_year'] = pd.to_datetime(vis_df['Date_received']).dt.year"
   ]
  },
  {
   "cell_type": "code",
   "execution_count": null,
   "metadata": {},
   "outputs": [
    {
     "data": {
      "image/png": "[encoded data removed]",
      "text/plain": [
       "<Figure size 1152x504 with 1 Axes>"
      ]
     },
     "metadata": {
      "needs_background": "light"
     },
     "output_type": "display_data"
    }
   ],
   "source": [
    "plt.subplots(figsize=(16,7))\n",
    "sns.countplot(x='received_year',data=vis_df,ec=\"black\")\n",
    "plt.xticks(rotation=45)\n",
    "plt.title('complaint Year and Disputed consumers count',weight=\"bold\",fontsize=20,pad=10)\n",
    "plt.ylabel(\"Disputed Count\",weight=\"bold\",fontsize=14)\n",
    "plt.xlabel(\"complaint's Year\",weight=\"bold\",fontsize=14)\n",
    "plt.grid(alpha = 0.5,axis=\"y\")\n",
    "plt.show()"
   ]
  },
  {
   "cell_type": "markdown",
   "metadata": {},
   "source": [
    "Finance Complaint Month and Dispted Consumer's count</br>\n",
    "The month when CFPB received the complaints.\n",
    "\n"
   ]
  },
  {
   "cell_type": "code",
   "execution_count": null,
   "metadata": {},
   "outputs": [],
   "source": [
    "#Map the month name into numerical\n",
    "month_to_num = {\n",
    "    'January': 1,\n",
    "    'February': 2,\n",
    "    'March': 3,\n",
    "    'April': 4,\n",
    "    'May': 5,\n",
    "    'June': 6,\n",
    "    'July': 7,\n",
    "    'August': 8,\n",
    "    'September': 9,\n",
    "    'October': 10,\n",
    "    'November': 11,\n",
    "    'December': 12\n",
    "}\n",
    "vis_df = vis_df.replace({'received_month':month_to_num})"
   ]
  },
  {
   "cell_type": "code",
   "execution_count": null,
   "metadata": {},
   "outputs": [
    {
     "data": {
      "image/png": "[encoded data removed]",
      "text/plain": [
       "<Figure size 1152x504 with 1 Axes>"
      ]
     },
     "metadata": {
      "needs_background": "light"
     },
     "output_type": "display_data"
    }
   ],
   "source": [
    "months_order = [\n",
    "    'January', 'February', 'March', 'April', 'May', 'June',\n",
    "    'July', 'August', 'September', 'October', 'November', 'December'\n",
    "]\n",
    "\n",
    "plt.subplots(figsize=(16, 7))\n",
    "sns.countplot(x='received_month', data=vis_df, ec=\"black\", palette='rainbow')\n",
    "plt.xticks(rotation=45)\n",
    "plt.title('Complaint Month and Disputed Consumers Count', weight=\"bold\", fontsize=20, pad=10)\n",
    "plt.ylabel(\"Disputed Count\", weight=\"bold\", fontsize=14)\n",
    "plt.xlabel(\"Complaint's Month\", weight=\"bold\", fontsize=14)\n",
    "plt.grid(alpha=0.5, axis=\"y\")\n",
    "plt.show()"
   ]
  },
  {
   "cell_type": "markdown",
   "metadata": {},
   "source": [
    "Complaint  submission"
   ]
  },
  {
   "cell_type": "markdown",
   "metadata": {},
   "source": [
    "How the complaint was submitted to the CFPB. for example \"Web\" or \"Phone\""
   ]
  },
  {
   "cell_type": "code",
   "execution_count": null,
   "metadata": {},
   "outputs": [
    {
     "data": {
      "text/html": [
       "<div>\n",
       "<style scoped>\n",
       "    .dataframe tbody tr th:only-of-type {\n",
       "        vertical-align: middle;\n",
       "    }\n",
       "\n",
       "    .dataframe tbody tr th {\n",
       "        vertical-align: top;\n",
       "    }\n",
       "\n",
       "    .dataframe thead th {\n",
       "        text-align: right;\n",
       "    }\n",
       "</style>\n",
       "<table border=\"1\" class=\"dataframe\">\n",
       "  <thead>\n",
       "    <tr style=\"text-align: right;\">\n",
       "      <th></th>\n",
       "      <th>proportion</th>\n",
       "    </tr>\n",
       "    <tr>\n",
       "      <th>Submitted_via</th>\n",
       "      <th></th>\n",
       "    </tr>\n",
       "  </thead>\n",
       "  <tbody>\n",
       "    <tr>\n",
       "      <th>Web</th>\n",
       "      <td>87.199787</td>\n",
       "    </tr>\n",
       "    <tr>\n",
       "      <th>Referral</th>\n",
       "      <td>5.893244</td>\n",
       "    </tr>\n",
       "    <tr>\n",
       "      <th>Phone</th>\n",
       "      <td>4.043561</td>\n",
       "    </tr>\n",
       "    <tr>\n",
       "      <th>Postal mail</th>\n",
       "      <td>2.200021</td>\n",
       "    </tr>\n",
       "    <tr>\n",
       "      <th>Fax</th>\n",
       "      <td>0.622938</td>\n",
       "    </tr>\n",
       "    <tr>\n",
       "      <th>Web Referral</th>\n",
       "      <td>0.030130</td>\n",
       "    </tr>\n",
       "    <tr>\n",
       "      <th>Email</th>\n",
       "      <td>0.010318</td>\n",
       "    </tr>\n",
       "  </tbody>\n",
       "</table>\n",
       "</div>"
      ],
      "text/plain": [
       "               proportion\n",
       "Submitted_via            \n",
       "Web             87.199787\n",
       "Referral         5.893244\n",
       "Phone            4.043561\n",
       "Postal mail      2.200021\n",
       "Fax              0.622938\n",
       "Web Referral     0.030130\n",
       "Email            0.010318"
      ]
     },
     "execution_count": 77,
     "metadata": {},
     "output_type": "execute_result"
    }
   ],
   "source": [
    "data.Submitted_via.value_counts(normalize=True).to_frame()*100"
   ]
  },
  {
   "cell_type": "code",
   "execution_count": null,
   "metadata": {},
   "outputs": [
    {
     "data": {
      "text/plain": [
       "Text(0.5, 0, 'submitted via')"
      ]
     },
     "execution_count": 80,
     "metadata": {},
     "output_type": "execute_result"
    },
    {
     "data": {
      "image/png": "[encoded data removed]",
      "text/plain": [
       "<Figure size 1152x504 with 1 Axes>"
      ]
     },
     "metadata": {
      "needs_background": "light"
     },
     "output_type": "display_data"
    }
   ],
   "source": [
    "plt.subplots(figsize=(16, 7))\n",
    "sns.countplot(x='Submitted_via',hue=\"Consumer_disputed\", data=data, ec=\"black\", palette='Set1_r')\n",
    "\n",
    "plt.title('Complaints submitted via', weight=\"bold\", fontsize=20, pad=10)\n",
    "plt.ylabel(\"Disputed Count\", weight=\"bold\", fontsize=14)\n",
    "plt.xlabel(\"submitted via\", weight=\"bold\", fontsize=14)\n",
    "\n"
   ]
  },
  {
   "cell_type": "markdown",
   "metadata": {},
   "source": [
    "Timely response has any effect on Target column"
   ]
  },
  {
   "cell_type": "code",
   "execution_count": null,
   "metadata": {},
   "outputs": [
    {
     "data": {
      "text/plain": [
       "Text(0.5, 0, 'Timely response')"
      ]
     },
     "execution_count": 81,
     "metadata": {},
     "output_type": "execute_result"
    },
    {
     "data": {
      "image/png": "[encoded data removed]",
      "text/plain": [
       "<Figure size 1152x504 with 1 Axes>"
      ]
     },
     "metadata": {
      "needs_background": "light"
     },
     "output_type": "display_data"
    }
   ],
   "source": [
    "plt.subplots(figsize=(16, 7))\n",
    "sns.countplot(x='Timely_response',hue=\"Consumer_disputed\", data=data, ec=\"black\", palette='vlag')\n",
    "\n",
    "plt.title('Timely response and impact on target columns', weight=\"bold\", fontsize=20, pad=10)\n",
    "plt.ylabel(\"Disputed Count\", weight=\"bold\", fontsize=14)\n",
    "plt.xlabel(\"Timely response\", weight=\"bold\", fontsize=14)\n",
    "\n"
   ]
  },
  {
   "cell_type": "markdown",
   "metadata": {},
   "source": [
    "COnsumer consent provided and its effect on Target column </br>\n",
    "here consent provided column is approval given bt the consumer on publishing their complaints"
   ]
  },
  {
   "cell_type": "code",
   "execution_count": null,
   "metadata": {},
   "outputs": [
    {
     "data": {
      "image/png": "[encoded data removed]",
      "text/plain": [
       "<Figure size 1152x504 with 1 Axes>"
      ]
     },
     "metadata": {
      "needs_background": "light"
     },
     "output_type": "display_data"
    }
   ],
   "source": [
    "plt.subplots(figsize=(16, 7))\n",
    "sns.countplot(x='consumer_consent_provided',hue=\"Consumer_disputed\", data=data, ec=\"black\", palette='Spectral')\n",
    "\n",
    "plt.title('consumer_consent_provided impact on target columns', weight=\"bold\", fontsize=20, pad=10)\n",
    "plt.ylabel(\"Disputed Count\", weight=\"bold\", fontsize=14)\n",
    "plt.xlabel(\"consent provided\", weight=\"bold\", fontsize=14)\n",
    "plt.xticks(rotation=20);"
   ]
  },
  {
   "cell_type": "code",
   "execution_count": null,
   "metadata": {},
   "outputs": [],
   "source": []
  }
 ],
 "metadata": {
  "kernelspec": {
   "display_name": "Python 3",
   "language": "python",
   "name": "python3"
  },
  "language_info": {
   "codemirror_mode": {
    "name": "ipython",
    "version": 3
   },
   "file_extension": ".py",
   "mimetype": "text/x-python",
   "name": "python",
   "nbconvert_exporter": "python",
   "pygments_lexer": "ipython3",
   "version": "3.10.12"
  },
  "orig_nbformat": 4
 },
 "nbformat": 4,
 "nbformat_minor": 2
}
